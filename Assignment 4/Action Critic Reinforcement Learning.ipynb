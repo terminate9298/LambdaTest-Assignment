{
 "cells": [
  {
   "cell_type": "markdown",
   "id": "ethical-default",
   "metadata": {},
   "source": [
    "# Importing Libraries"
   ]
  },
  {
   "cell_type": "code",
   "execution_count": null,
   "id": "hired-blake",
   "metadata": {},
   "outputs": [],
   "source": [
    "import gym # For Game Environment\n",
    "import numpy as np # Numpy\n",
    "from itertools import count # For Running the Counter\n",
    "from collections import namedtuple"
   ]
  },
  {
   "cell_type": "code",
   "execution_count": 9,
   "id": "filled-trace",
   "metadata": {},
   "outputs": [],
   "source": [
    "import torch\n",
    "import torch.nn as nn\n",
    "import torch.nn.functional as F\n",
    "import torch.optim as optim\n",
    "from torch.distributions import Categorical"
   ]
  },
  {
   "cell_type": "markdown",
   "id": "alert-wound",
   "metadata": {},
   "source": [
    "# Making Gym Environment"
   ]
  },
  {
   "cell_type": "code",
   "execution_count": 11,
   "id": "ordered-government",
   "metadata": {},
   "outputs": [],
   "source": [
    "SavedAction= namedtuple('SavedAction', ['log_prob', 'value'])\n",
    "env = gym.make('CartPole-v0')"
   ]
  },
  {
   "cell_type": "code",
   "execution_count": 12,
   "id": "enormous-better",
   "metadata": {},
   "outputs": [],
   "source": [
    "# Defining Action and Critic \n",
    "class ActorCritic(nn.Module):\n",
    "    def __init__(self):\n",
    "        super(ActorCritic, self).__init__()\n",
    "        self.fc1 = nn.Linear(4, 128) \n",
    "        self.actor = nn.Linear(128, 2)\n",
    "        self.critic = nn.Linear(128, 1)\n",
    "        self.saved_actions = []\n",
    "        self.rewards = []\n",
    "    def forward(self, x):\n",
    "        x = F.relu(self.fc1(x))\n",
    "        action_prob = F.softmax(self.actor(x), dim=-1)\n",
    "        state_values = self.critic(x)\n",
    "        return action_prob, state_values"
   ]
  },
  {
   "cell_type": "code",
   "execution_count": 13,
   "id": "induced-style",
   "metadata": {},
   "outputs": [],
   "source": [
    "# Creating Data how model Performed\n",
    "def select_action(state):\n",
    "    state = torch.from_numpy(state).float()\n",
    "    probs, state_value = model(state)\n",
    "    m = Categorical(probs)\n",
    "    action = m.sample()\n",
    "    model.saved_actions.append(SavedAction(m.log_prob(action), state_value))\n",
    "    return action.item()"
   ]
  },
  {
   "cell_type": "code",
   "execution_count": 14,
   "id": "taken-cattle",
   "metadata": {},
   "outputs": [],
   "source": [
    "# Episode Training \n",
    "def finish_episode():\n",
    "    R = 0\n",
    "    saved_actions = model.saved_actions\n",
    "    policy_losses = []\n",
    "    value_losses =[]\n",
    "    returns = []\n",
    "    \n",
    "    for r in model.rewards[::-1]:\n",
    "        R = r + 0.99 * R\n",
    "        returns.insert(0, R)\n",
    "    returns = torch.tensor(returns)\n",
    "    returns = (returns - returns.mean()) / (returns.std() + eps)\n",
    "    \n",
    "    for (log_prob, value), R in zip(saved_actions, returns):\n",
    "        advantage = R - value.item()\n",
    "        \n",
    "        policy_losses.append(-log_prob * advantage)\n",
    "        value_losses.append(F.smooth_l1_loss(value, torch.tensor([R])))\n",
    "    \n",
    "    optimizer.zero_grad()\n",
    "    loss = torch.stack(policy_losses).sum() + torch.stack(value_losses).sum()\n",
    "    \n",
    "    loss.backward()\n",
    "    optimizer.step()\n",
    "    \n",
    "    del model.rewards[:]\n",
    "    del model.saved_actions[:]"
   ]
  },
  {
   "cell_type": "code",
   "execution_count": 15,
   "id": "funky-clause",
   "metadata": {},
   "outputs": [],
   "source": [
    "# Defining The Model\n",
    "model = ActorCritic()\n",
    "optimizer = optim.Adam(model.parameters(), lr=3e-2)\n",
    "eps = np.finfo(np.float32).eps.item()"
   ]
  },
  {
   "cell_type": "markdown",
   "id": "attended-lecture",
   "metadata": {},
   "source": [
    "## Training The Model"
   ]
  },
  {
   "cell_type": "code",
   "execution_count": 16,
   "id": "female-helmet",
   "metadata": {},
   "outputs": [],
   "source": [
    "def train():\n",
    "    running_reward = 10\n",
    "    for i_episode in count(): # We need around this much episodes\n",
    "        state = env.reset()\n",
    "        ep_reward = 0\n",
    "        for t in range(1, 10000):\n",
    "            action = select_action(state)\n",
    "            state, reward, done, _ = env.step(action)\n",
    "            model.rewards.append(reward)\n",
    "            ep_reward += reward\n",
    "            if done:\n",
    "                break\n",
    "        running_reward = 0.05 * ep_reward + (1-0.05) * running_reward\n",
    "        finish_episode()\n",
    "        if i_episode % 10 == 0: # We will print some things out\n",
    "            print(\"Episode {}\\tLast Reward: {:.2f}\\tAverage reward: {:.2f}\".format(\n",
    "                i_episode, ep_reward, running_reward\n",
    "            ))\n",
    "        if running_reward > env.spec.reward_threshold:\n",
    "            print(\"Solved, running reward is now {} and the last episode runs to {} time steps\".format(\n",
    "                    running_reward, t\n",
    "            ))\n",
    "            break"
   ]
  },
  {
   "cell_type": "code",
   "execution_count": 17,
   "id": "environmental-extra",
   "metadata": {},
   "outputs": [
    {
     "name": "stdout",
     "output_type": "stream",
     "text": [
      "Episode 0\tLast Reward: 24.00\tAverage reward: 10.70\n",
      "Episode 10\tLast Reward: 18.00\tAverage reward: 11.60\n",
      "Episode 20\tLast Reward: 20.00\tAverage reward: 12.42\n",
      "Episode 30\tLast Reward: 18.00\tAverage reward: 25.20\n",
      "Episode 40\tLast Reward: 10.00\tAverage reward: 20.49\n",
      "Episode 50\tLast Reward: 32.00\tAverage reward: 21.82\n",
      "Episode 60\tLast Reward: 88.00\tAverage reward: 47.88\n",
      "Episode 70\tLast Reward: 67.00\tAverage reward: 63.06\n",
      "Episode 80\tLast Reward: 60.00\tAverage reward: 69.62\n",
      "Episode 90\tLast Reward: 97.00\tAverage reward: 76.06\n",
      "Episode 100\tLast Reward: 103.00\tAverage reward: 82.13\n",
      "Episode 110\tLast Reward: 81.00\tAverage reward: 100.90\n",
      "Episode 120\tLast Reward: 169.00\tAverage reward: 114.11\n",
      "Episode 130\tLast Reward: 141.00\tAverage reward: 118.45\n",
      "Episode 140\tLast Reward: 111.00\tAverage reward: 124.46\n",
      "Episode 150\tLast Reward: 117.00\tAverage reward: 128.53\n",
      "Episode 160\tLast Reward: 200.00\tAverage reward: 143.09\n",
      "Episode 170\tLast Reward: 200.00\tAverage reward: 165.60\n",
      "Episode 180\tLast Reward: 200.00\tAverage reward: 179.40\n",
      "Episode 190\tLast Reward: 200.00\tAverage reward: 187.56\n",
      "Episode 200\tLast Reward: 67.00\tAverage reward: 184.58\n",
      "Episode 210\tLast Reward: 179.00\tAverage reward: 164.16\n",
      "Episode 220\tLast Reward: 200.00\tAverage reward: 165.11\n",
      "Episode 230\tLast Reward: 200.00\tAverage reward: 155.69\n",
      "Episode 240\tLast Reward: 149.00\tAverage reward: 155.73\n",
      "Episode 250\tLast Reward: 148.00\tAverage reward: 150.68\n",
      "Episode 260\tLast Reward: 116.00\tAverage reward: 144.60\n",
      "Episode 270\tLast Reward: 189.00\tAverage reward: 155.98\n",
      "Episode 280\tLast Reward: 200.00\tAverage reward: 172.95\n",
      "Episode 290\tLast Reward: 200.00\tAverage reward: 182.90\n",
      "Episode 300\tLast Reward: 200.00\tAverage reward: 176.69\n",
      "Episode 310\tLast Reward: 200.00\tAverage reward: 185.21\n",
      "Episode 320\tLast Reward: 176.00\tAverage reward: 184.64\n",
      "Episode 330\tLast Reward: 132.00\tAverage reward: 161.82\n",
      "Episode 340\tLast Reward: 155.00\tAverage reward: 155.31\n",
      "Episode 350\tLast Reward: 181.00\tAverage reward: 164.38\n",
      "Episode 360\tLast Reward: 195.00\tAverage reward: 177.37\n",
      "Episode 370\tLast Reward: 184.00\tAverage reward: 182.50\n",
      "Episode 380\tLast Reward: 200.00\tAverage reward: 188.70\n",
      "Episode 390\tLast Reward: 200.00\tAverage reward: 191.10\n",
      "Episode 400\tLast Reward: 200.00\tAverage reward: 194.06\n",
      "Solved, running reward is now 195.02229371366084 and the last episode runs to 200 time steps\n"
     ]
    }
   ],
   "source": [
    "train()"
   ]
  },
  {
   "cell_type": "markdown",
   "id": "stable-middle",
   "metadata": {},
   "source": [
    "# Visualizing How Well our model Performed"
   ]
  },
  {
   "cell_type": "code",
   "execution_count": 20,
   "id": "sudden-screen",
   "metadata": {},
   "outputs": [
    {
     "name": "stdout",
     "output_type": "stream",
     "text": [
      "Game lasted 200 moves\n"
     ]
    }
   ],
   "source": [
    "done = False\n",
    "cnt = 0\n",
    "observation = env.reset()\n",
    "while True:\n",
    "    cnt += 1\n",
    "    env.render()\n",
    "    action = select_action(observation)\n",
    "    observation, reward, done, _ = env.step(action)\n",
    "    if done:\n",
    "        break\n",
    "    # Lets see how long it lasts until failing\n",
    "print(f\"Game lasted {cnt} moves\")\n",
    "\n"
   ]
  },
  {
   "cell_type": "code",
   "execution_count": null,
   "id": "scientific-agriculture",
   "metadata": {},
   "outputs": [],
   "source": []
  }
 ],
 "metadata": {
  "kernelspec": {
   "display_name": "Python 3",
   "language": "python",
   "name": "python3"
  },
  "language_info": {
   "codemirror_mode": {
    "name": "ipython",
    "version": 3
   },
   "file_extension": ".py",
   "mimetype": "text/x-python",
   "name": "python",
   "nbconvert_exporter": "python",
   "pygments_lexer": "ipython3",
   "version": "3.8.0"
  }
 },
 "nbformat": 4,
 "nbformat_minor": 5
}
