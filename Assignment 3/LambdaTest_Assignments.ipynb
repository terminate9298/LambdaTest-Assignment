{
 "cells": [
  {
   "cell_type": "markdown",
   "metadata": {
    "id": "xucvgHnouEg9"
   },
   "source": [
    "# NLP Task - Classify real news from fake news\n",
    "### Importing libraries and importing Datasets"
   ]
  },
  {
   "cell_type": "code",
   "execution_count": 3,
   "metadata": {
    "id": "G34qhxneOZnC"
   },
   "outputs": [],
   "source": [
    "import pandas as pd\n",
    "import numpy as np\n",
    "import os, time, gc, re\n",
    "\n",
    "import nltk\n",
    "nltk.download('punkt')\n",
    "nltk.download('wordnet')\n",
    "from nltk.corpus import stopwords\n",
    "from nltk.util import ngrams\n",
    "from nltk.tokenize import word_tokenize,sent_tokenize\n",
    "from keras.preprocessing.text import Tokenizer\n",
    "from gensim.models import KeyedVectors\n",
    "\n",
    "import torch\n",
    "from torch import nn, Tensor, device\n",
    "from torch.optim import Optimizer\n",
    "import torch.multiprocessing as mp\n",
    "from torch.utils.data import DataLoader\n",
    "from torch.utils.tensorboard import SummaryWriter\n",
    "from keras.preprocessing.text import Tokenizer \n",
    "import torch.nn.functional as F\n",
    "from torch.nn.utils.rnn import  pack_padded_sequence , pad_sequence\n",
    "\n",
    "import matplotlib.pyplot as plt\n",
    "import seaborn as sns\n",
    "from sklearn.metrics import roc_auc_score,confusion_matrix, classification_report\n",
    "from datetime import datetime\n",
    "import random\n",
    "import json\n",
    "import requests\n",
    "import math\n",
    "import pickle\n",
    "import sys\n",
    "import time\n",
    "\n",
    "from tqdm.autonotebook import trange\n",
    "from tqdm._tqdm_notebook import tqdm_notebook\n",
    "from tqdm import tqdm\n",
    "tqdm_notebook.pandas()\n",
    "!pip install sentence-transformers\n",
    "from sentence_transformers import SentenceTransformer\n",
    "model = SentenceTransformer('paraphrase-distilroberta-base-v1')\n",
    "from IPython.display import clear_output\n",
    "clear_output()\n",
    "\n",
    "device = torch.device(\"cuda\" if torch.cuda.is_available() else \"cpu\")\n",
    "\n",
    "import warnings\n",
    "warnings.filterwarnings(\"ignore\")\n",
    "\n",
    "pd.set_option('display.max_rows', 500)\n",
    "pd.set_option('display.max_columns', 500)\n",
    "pd.set_option('display.width', 1000)\n",
    "\n",
    "    \n",
    "from IPython.display import display\n",
    "from IPython.core.display import HTML\n",
    "\n",
    "import matplotlib.pyplot as plt\n",
    "import seaborn as sns\n",
    "plt.style.use('ggplot')"
   ]
  },
  {
   "cell_type": "code",
   "execution_count": 4,
   "metadata": {
    "id": "KSfxeYaAuK5r"
   },
   "outputs": [],
   "source": [
    "real = pd.read_csv('/content/drive/MyDrive/Colab Notebooks/database/News/True.csv')\n",
    "fake = pd.read_csv('/content/drive/MyDrive/Colab Notebooks/database/News/Fake.csv')\n",
    "fake['Fake'] = True\n",
    "real['Fake'] = False\n",
    "data = pd.concat([real , fake])\n",
    "data['news'] = data['title'] + ' - ' + data['text'] \n",
    "data['length'] = data.news.apply(lambda x: len(x.split(' ')))\n",
    "data = data.sample(frac = 1.0)"
   ]
  },
  {
   "cell_type": "code",
   "execution_count": 5,
   "metadata": {
    "colab": {
     "base_uri": "https://localhost:8080/",
     "height": 316
    },
    "id": "buTAriH7uW40",
    "outputId": "4e3f358f-5ce2-4914-bffb-fc49d77b4416"
   },
   "outputs": [
    {
     "data": {
      "text/html": [
       "<h3>Sample Data From Fake Dataset</h3>"
      ],
      "text/plain": [
       "<IPython.core.display.HTML object>"
      ]
     },
     "metadata": {
      "tags": []
     },
     "output_type": "display_data"
    },
    {
     "data": {
      "text/html": [
       "<div>\n",
       "<style scoped>\n",
       "    .dataframe tbody tr th:only-of-type {\n",
       "        vertical-align: middle;\n",
       "    }\n",
       "\n",
       "    .dataframe tbody tr th {\n",
       "        vertical-align: top;\n",
       "    }\n",
       "\n",
       "    .dataframe thead th {\n",
       "        text-align: right;\n",
       "    }\n",
       "</style>\n",
       "<table border=\"1\" class=\"dataframe\">\n",
       "  <thead>\n",
       "    <tr style=\"text-align: right;\">\n",
       "      <th></th>\n",
       "      <th>title</th>\n",
       "      <th>text</th>\n",
       "      <th>subject</th>\n",
       "      <th>date</th>\n",
       "      <th>Fake</th>\n",
       "    </tr>\n",
       "  </thead>\n",
       "  <tbody>\n",
       "    <tr>\n",
       "      <th>15847</th>\n",
       "      <td>JIHAD FOR DUMMIES: How US Army Enlistee, Moham...</td>\n",
       "      <td>Note to little Johnny you might want to consid...</td>\n",
       "      <td>politics</td>\n",
       "      <td>Apr 10, 2015</td>\n",
       "      <td>True</td>\n",
       "    </tr>\n",
       "    <tr>\n",
       "      <th>9310</th>\n",
       "      <td>JUST IN: Flynn to Plead Guilty to Lying to the...</td>\n",
       "      <td>The broader story in this entire Russia witch ...</td>\n",
       "      <td>politics</td>\n",
       "      <td>Dec 1, 2017</td>\n",
       "      <td>True</td>\n",
       "    </tr>\n",
       "    <tr>\n",
       "      <th>10849</th>\n",
       "      <td>“GOOD-BYE SWEDEN”: How Muslim Violence…Porous ...</td>\n",
       "      <td>This blogger s piece is a glimpse into the fut...</td>\n",
       "      <td>politics</td>\n",
       "      <td>May 18, 2017</td>\n",
       "      <td>True</td>\n",
       "    </tr>\n",
       "    <tr>\n",
       "      <th>974</th>\n",
       "      <td>WATCH: Kellyanne Conway Runs From Reporter As...</td>\n",
       "      <td>White House counselor Kellyanne Conway likes t...</td>\n",
       "      <td>News</td>\n",
       "      <td>June 29, 2017</td>\n",
       "      <td>True</td>\n",
       "    </tr>\n",
       "    <tr>\n",
       "      <th>23108</th>\n",
       "      <td>Aleppo Truth: Incredible Press Conference at t...</td>\n",
       "      <td>SEE MORE ALEPPO UPDATES &amp; EXCLUSIVES HEREThis ...</td>\n",
       "      <td>Middle-east</td>\n",
       "      <td>December 12, 2016</td>\n",
       "      <td>True</td>\n",
       "    </tr>\n",
       "  </tbody>\n",
       "</table>\n",
       "</div>"
      ],
      "text/plain": [
       "                                                   title                                               text      subject               date  Fake\n",
       "15847  JIHAD FOR DUMMIES: How US Army Enlistee, Moham...  Note to little Johnny you might want to consid...     politics       Apr 10, 2015  True\n",
       "9310   JUST IN: Flynn to Plead Guilty to Lying to the...  The broader story in this entire Russia witch ...     politics        Dec 1, 2017  True\n",
       "10849  “GOOD-BYE SWEDEN”: How Muslim Violence…Porous ...  This blogger s piece is a glimpse into the fut...     politics       May 18, 2017  True\n",
       "974     WATCH: Kellyanne Conway Runs From Reporter As...  White House counselor Kellyanne Conway likes t...         News      June 29, 2017  True\n",
       "23108  Aleppo Truth: Incredible Press Conference at t...  SEE MORE ALEPPO UPDATES & EXCLUSIVES HEREThis ...  Middle-east  December 12, 2016  True"
      ]
     },
     "execution_count": 5,
     "metadata": {
      "tags": []
     },
     "output_type": "execute_result"
    }
   ],
   "source": [
    "display(HTML('<h3>Sample Data From Fake Dataset</h3>'))\n",
    "fake.sample(5)"
   ]
  },
  {
   "cell_type": "code",
   "execution_count": 6,
   "metadata": {
    "colab": {
     "base_uri": "https://localhost:8080/",
     "height": 299
    },
    "id": "w5Vjbt-Pua8H",
    "outputId": "8ec3634b-ea81-499a-bb17-3671da86cba1"
   },
   "outputs": [
    {
     "data": {
      "text/html": [
       "<h3>Sample Data From Real Dataset</h3>"
      ],
      "text/plain": [
       "<IPython.core.display.HTML object>"
      ]
     },
     "metadata": {
      "tags": []
     },
     "output_type": "display_data"
    },
    {
     "data": {
      "text/html": [
       "<div>\n",
       "<style scoped>\n",
       "    .dataframe tbody tr th:only-of-type {\n",
       "        vertical-align: middle;\n",
       "    }\n",
       "\n",
       "    .dataframe tbody tr th {\n",
       "        vertical-align: top;\n",
       "    }\n",
       "\n",
       "    .dataframe thead th {\n",
       "        text-align: right;\n",
       "    }\n",
       "</style>\n",
       "<table border=\"1\" class=\"dataframe\">\n",
       "  <thead>\n",
       "    <tr style=\"text-align: right;\">\n",
       "      <th></th>\n",
       "      <th>title</th>\n",
       "      <th>text</th>\n",
       "      <th>subject</th>\n",
       "      <th>date</th>\n",
       "      <th>Fake</th>\n",
       "    </tr>\n",
       "  </thead>\n",
       "  <tbody>\n",
       "    <tr>\n",
       "      <th>10231</th>\n",
       "      <td>Trump vows strong U.S. ties with Israel, draws...</td>\n",
       "      <td>WASHINGTON (Reuters) - Republican presidential...</td>\n",
       "      <td>politicsNews</td>\n",
       "      <td>March 21, 2016</td>\n",
       "      <td>False</td>\n",
       "    </tr>\n",
       "    <tr>\n",
       "      <th>8710</th>\n",
       "      <td>Justice Department changes social media policy...</td>\n",
       "      <td>WASHINGTON (Reuters) - The U.S. Justice Depart...</td>\n",
       "      <td>politicsNews</td>\n",
       "      <td>July 19, 2016</td>\n",
       "      <td>False</td>\n",
       "    </tr>\n",
       "    <tr>\n",
       "      <th>2228</th>\n",
       "      <td>Reports suggest North Korea treating foreign d...</td>\n",
       "      <td>GENEVA (Reuters) - Foreign detainees in North ...</td>\n",
       "      <td>politicsNews</td>\n",
       "      <td>August 11, 2017</td>\n",
       "      <td>False</td>\n",
       "    </tr>\n",
       "    <tr>\n",
       "      <th>20798</th>\n",
       "      <td>Merkel tells voters: 'don't experiment' with t...</td>\n",
       "      <td>BERLIN (Reuters) - Chancellor Angela Merkel wa...</td>\n",
       "      <td>worldnews</td>\n",
       "      <td>September 7, 2017</td>\n",
       "      <td>False</td>\n",
       "    </tr>\n",
       "    <tr>\n",
       "      <th>17002</th>\n",
       "      <td>Pakistani anti-corruption court indicts ousted...</td>\n",
       "      <td>ISLAMABAD (Reuters) - A Pakistani anti-corrupt...</td>\n",
       "      <td>worldnews</td>\n",
       "      <td>October 19, 2017</td>\n",
       "      <td>False</td>\n",
       "    </tr>\n",
       "  </tbody>\n",
       "</table>\n",
       "</div>"
      ],
      "text/plain": [
       "                                                   title                                               text       subject                date   Fake\n",
       "10231  Trump vows strong U.S. ties with Israel, draws...  WASHINGTON (Reuters) - Republican presidential...  politicsNews     March 21, 2016   False\n",
       "8710   Justice Department changes social media policy...  WASHINGTON (Reuters) - The U.S. Justice Depart...  politicsNews      July 19, 2016   False\n",
       "2228   Reports suggest North Korea treating foreign d...  GENEVA (Reuters) - Foreign detainees in North ...  politicsNews    August 11, 2017   False\n",
       "20798  Merkel tells voters: 'don't experiment' with t...  BERLIN (Reuters) - Chancellor Angela Merkel wa...     worldnews  September 7, 2017   False\n",
       "17002  Pakistani anti-corruption court indicts ousted...  ISLAMABAD (Reuters) - A Pakistani anti-corrupt...     worldnews   October 19, 2017   False"
      ]
     },
     "execution_count": 6,
     "metadata": {
      "tags": []
     },
     "output_type": "execute_result"
    }
   ],
   "source": [
    "display(HTML('<h3>Sample Data From Real Dataset</h3>'))\n",
    "real.sample(5)"
   ]
  },
  {
   "cell_type": "code",
   "execution_count": 7,
   "metadata": {
    "colab": {
     "base_uri": "https://localhost:8080/",
     "height": 52
    },
    "id": "GNMqzDAIvDHX",
    "outputId": "06873acd-1116-42e1-c423-5dd9b2a64a56"
   },
   "outputs": [
    {
     "data": {
      "text/html": [
       "<b>Fake Dataset Shape</b> : 23481 Rows * 5 Columns"
      ],
      "text/plain": [
       "<IPython.core.display.HTML object>"
      ]
     },
     "metadata": {
      "tags": []
     },
     "output_type": "display_data"
    },
    {
     "data": {
      "text/html": [
       "<b>Real Dataset Shape</b> : 21417 Rows * 5 Columns"
      ],
      "text/plain": [
       "<IPython.core.display.HTML object>"
      ]
     },
     "metadata": {
      "tags": []
     },
     "output_type": "display_data"
    }
   ],
   "source": [
    "display(HTML(f'<b>Fake Dataset Shape</b> : {fake.shape[0]} Rows * {fake.shape[1]} Columns'))\n",
    "display(HTML(f'<b>Real Dataset Shape</b> : {real.shape[0]} Rows * {real.shape[1]} Columns'))"
   ]
  },
  {
   "cell_type": "code",
   "execution_count": 8,
   "metadata": {
    "colab": {
     "base_uri": "https://localhost:8080/",
     "height": 540
    },
    "id": "jhPlZxPavpWn",
    "outputId": "ad49d417-ac55-42d2-8526-81f4959c75e6"
   },
   "outputs": [
    {
     "data": {
      "text/html": [
       "Count plot of Length of Text in Dataset"
      ],
      "text/plain": [
       "<IPython.core.display.HTML object>"
      ]
     },
     "metadata": {
      "tags": []
     },
     "output_type": "display_data"
    },
    {
     "data": {
      "text/plain": [
       "<matplotlib.axes._subplots.AxesSubplot at 0x7f103e3d4690>"
      ]
     },
     "execution_count": 8,
     "metadata": {
      "tags": []
     },
     "output_type": "execute_result"
    },
    {
     "data": {
      "image/png": "[encoded data removed]",
      "text/plain": [
       "<Figure size 1080x576 with 1 Axes>"
      ]
     },
     "metadata": {
      "tags": []
     },
     "output_type": "display_data"
    }
   ],
   "source": [
    "display(HTML(f\"Count plot of Length of Text in Dataset\"))\n",
    "fig, axs = plt.subplots(figsize=(15, 8))\n",
    "sns.histplot(data, x = 'length', hue = 'Fake',ax = axs, kde = True, log_scale=True)\n",
    "# sns.histplot(fake.text.apply(lambda x : len(x.split(' '))) , color = 'red', ax = axs)\n",
    "# sns.histplot(real.text.apply(lambda x : len(x.split(' '))) , color = 'blue' , ax = axs)\n"
   ]
  },
  {
   "cell_type": "code",
   "execution_count": 9,
   "metadata": {
    "id": "Rm1xdRyJwKVZ"
   },
   "outputs": [],
   "source": [
    "lemma = nltk.WordNetLemmatizer()\n",
    "def normalize(text):\n",
    "    text = re.sub(r'U.S.|US|U.S.A','US',text)\n",
    "    text = re.sub(r'(@[A-Za-z0-9]+)|(#[A-Za-z0-9]+)|([^\\x00-\\x7F]+)|([0-9])|(\\w+:\\/\\/\\S+)|([^\\w\\s])|(\\s+)', ' ', text)\n",
    "    text = text.strip().lower()\n",
    "    text = re.sub(r'\\s+', ' ', text)\n",
    "\n",
    "    text = nltk.word_tokenize(text) # Tokenizing\n",
    "    text = [lemma.lemmatize(word) for word in text] # Lemmatizing\n",
    "    text = \" \".join(text)\n",
    "    return text\n",
    "\n",
    "data['news'] = data['news'].apply(normalize)\n"
   ]
  },
  {
   "cell_type": "code",
   "execution_count": 10,
   "metadata": {
    "colab": {
     "base_uri": "https://localhost:8080/",
     "height": 554
    },
    "id": "uNtF0aa51ERO",
    "outputId": "46cfd773-2308-4205-82da-0a1ad57723c6"
   },
   "outputs": [
    {
     "data": {
      "text/html": [
       "<div>\n",
       "<style scoped>\n",
       "    .dataframe tbody tr th:only-of-type {\n",
       "        vertical-align: middle;\n",
       "    }\n",
       "\n",
       "    .dataframe tbody tr th {\n",
       "        vertical-align: top;\n",
       "    }\n",
       "\n",
       "    .dataframe thead th {\n",
       "        text-align: right;\n",
       "    }\n",
       "</style>\n",
       "<table border=\"1\" class=\"dataframe\">\n",
       "  <thead>\n",
       "    <tr style=\"text-align: right;\">\n",
       "      <th></th>\n",
       "      <th>title</th>\n",
       "      <th>text</th>\n",
       "      <th>subject</th>\n",
       "      <th>date</th>\n",
       "      <th>Fake</th>\n",
       "      <th>news</th>\n",
       "      <th>length</th>\n",
       "    </tr>\n",
       "  </thead>\n",
       "  <tbody>\n",
       "    <tr>\n",
       "      <th>4195</th>\n",
       "      <td>SICK: Trump Told 14-Year-Old Girls He Would B...</td>\n",
       "      <td>Another bit of news from the past has come bac...</td>\n",
       "      <td>News</td>\n",
       "      <td>October 14, 2016</td>\n",
       "      <td>True</td>\n",
       "      <td>sick trump told year old girl he would be dati...</td>\n",
       "      <td>436</td>\n",
       "    </tr>\n",
       "    <tr>\n",
       "      <th>17609</th>\n",
       "      <td>Trump lays out new Iran strategy Friday, compl...</td>\n",
       "      <td>WASHINGTON (Reuters) - President Donald Trump ...</td>\n",
       "      <td>worldnews</td>\n",
       "      <td>October 12, 2017</td>\n",
       "      <td>False</td>\n",
       "      <td>trump lay out new iran strategy friday complic...</td>\n",
       "      <td>665</td>\n",
       "    </tr>\n",
       "    <tr>\n",
       "      <th>3754</th>\n",
       "      <td>Trump Faked Out Fans, Used Machine To Autogra...</td>\n",
       "      <td>Donald Trump supporters thought that when they...</td>\n",
       "      <td>News</td>\n",
       "      <td>November 19, 2016</td>\n",
       "      <td>True</td>\n",
       "      <td>trump faked out fan used machine to autograph ...</td>\n",
       "      <td>334</td>\n",
       "    </tr>\n",
       "    <tr>\n",
       "      <th>13108</th>\n",
       "      <td>RED ALERT: CLINTON DESTROYED EVIDENCE IN TWO W...</td>\n",
       "      <td></td>\n",
       "      <td>politics</td>\n",
       "      <td>Sep 2, 2016</td>\n",
       "      <td>True</td>\n",
       "      <td>red alert clinton destroyed evidence in two wa...</td>\n",
       "      <td>14</td>\n",
       "    </tr>\n",
       "    <tr>\n",
       "      <th>11678</th>\n",
       "      <td>Turkish PM calls Rohingya killings in Myanmar ...</td>\n",
       "      <td>COX S BAZAR, Bangladesh (Reuters) - Turkey s p...</td>\n",
       "      <td>worldnews</td>\n",
       "      <td>December 20, 2017</td>\n",
       "      <td>False</td>\n",
       "      <td>turkish pm call rohingya killing in myanmar ge...</td>\n",
       "      <td>477</td>\n",
       "    </tr>\n",
       "    <tr>\n",
       "      <th>14468</th>\n",
       "      <td>OBAMA SPEAKS ON SUPREME COURT NOMINEE And Take...</td>\n",
       "      <td>I feel like I ve been drugged by Obama s rhet...</td>\n",
       "      <td>politics</td>\n",
       "      <td>Feb 16, 2016</td>\n",
       "      <td>True</td>\n",
       "      <td>obama speaks on supreme court nominee and take...</td>\n",
       "      <td>218</td>\n",
       "    </tr>\n",
       "    <tr>\n",
       "      <th>4675</th>\n",
       "      <td>‘Pharma Bro’ Just Yelled This At Hillary To R...</td>\n",
       "      <td>You may have heard that Hillary Clinton had a ...</td>\n",
       "      <td>News</td>\n",
       "      <td>September 11, 2016</td>\n",
       "      <td>True</td>\n",
       "      <td>pharma bro just yelled this at hillary to remi...</td>\n",
       "      <td>409</td>\n",
       "    </tr>\n",
       "    <tr>\n",
       "      <th>15418</th>\n",
       "      <td>U.S. calls for U.N. action against Iran over Y...</td>\n",
       "      <td>UNITED NATIONS (Reuters) - The United States a...</td>\n",
       "      <td>worldnews</td>\n",
       "      <td>November 7, 2017</td>\n",
       "      <td>False</td>\n",
       "      <td>u call for u n action against iran over yemen ...</td>\n",
       "      <td>503</td>\n",
       "    </tr>\n",
       "    <tr>\n",
       "      <th>8838</th>\n",
       "      <td>Former Obama Adviser BLASTS Trump, Calls Him ...</td>\n",
       "      <td>Donald Trump has helped America s racists feel...</td>\n",
       "      <td>News</td>\n",
       "      <td>January 10, 2016</td>\n",
       "      <td>True</td>\n",
       "      <td>former obama adviser blast trump call him out ...</td>\n",
       "      <td>358</td>\n",
       "    </tr>\n",
       "    <tr>\n",
       "      <th>11024</th>\n",
       "      <td>Obama to seek $755 million for cancer 'moonsho...</td>\n",
       "      <td>WASHINGTON (Reuters) - President Barack Obama ...</td>\n",
       "      <td>politicsNews</td>\n",
       "      <td>February 1, 2016</td>\n",
       "      <td>False</td>\n",
       "      <td>obama to seek million for cancer moonshot whit...</td>\n",
       "      <td>331</td>\n",
       "    </tr>\n",
       "  </tbody>\n",
       "</table>\n",
       "</div>"
      ],
      "text/plain": [
       "                                                   title                                               text       subject                date   Fake                                               news  length\n",
       "4195    SICK: Trump Told 14-Year-Old Girls He Would B...  Another bit of news from the past has come bac...          News    October 14, 2016   True  sick trump told year old girl he would be dati...     436\n",
       "17609  Trump lays out new Iran strategy Friday, compl...  WASHINGTON (Reuters) - President Donald Trump ...     worldnews   October 12, 2017   False  trump lay out new iran strategy friday complic...     665\n",
       "3754    Trump Faked Out Fans, Used Machine To Autogra...  Donald Trump supporters thought that when they...          News   November 19, 2016   True  trump faked out fan used machine to autograph ...     334\n",
       "13108  RED ALERT: CLINTON DESTROYED EVIDENCE IN TWO W...                                                         politics         Sep 2, 2016   True  red alert clinton destroyed evidence in two wa...      14\n",
       "11678  Turkish PM calls Rohingya killings in Myanmar ...  COX S BAZAR, Bangladesh (Reuters) - Turkey s p...     worldnews  December 20, 2017   False  turkish pm call rohingya killing in myanmar ge...     477\n",
       "14468  OBAMA SPEAKS ON SUPREME COURT NOMINEE And Take...   I feel like I ve been drugged by Obama s rhet...      politics        Feb 16, 2016   True  obama speaks on supreme court nominee and take...     218\n",
       "4675    ‘Pharma Bro’ Just Yelled This At Hillary To R...  You may have heard that Hillary Clinton had a ...          News  September 11, 2016   True  pharma bro just yelled this at hillary to remi...     409\n",
       "15418  U.S. calls for U.N. action against Iran over Y...  UNITED NATIONS (Reuters) - The United States a...     worldnews   November 7, 2017   False  u call for u n action against iran over yemen ...     503\n",
       "8838    Former Obama Adviser BLASTS Trump, Calls Him ...  Donald Trump has helped America s racists feel...          News    January 10, 2016   True  former obama adviser blast trump call him out ...     358\n",
       "11024  Obama to seek $755 million for cancer 'moonsho...  WASHINGTON (Reuters) - President Barack Obama ...  politicsNews   February 1, 2016   False  obama to seek million for cancer moonshot whit...     331"
      ]
     },
     "execution_count": 10,
     "metadata": {
      "tags": []
     },
     "output_type": "execute_result"
    }
   ],
   "source": [
    "data.sample(10)"
   ]
  },
  {
   "cell_type": "markdown",
   "metadata": {
    "id": "DrESQ9sF_vVl"
   },
   "source": [
    "\n",
    "#Possible ways to solve this Problem\n",
    "*   Training Any DNN Model from Scratch and Training that over Complete Dataset.\n",
    "*   Machine Learning Approch : Tokenizing the Dataset and using Word2Vec followed by Any Machine Learning Model like Random Forest or KNN.\n",
    "*   Using Any pretrained Sentence Embedding Like BERT or GPT-2 followed by ANN to calculate Fake News in Dataset\n"
   ]
  },
  {
   "cell_type": "markdown",
   "metadata": {
    "id": "BWy8jj2etv7C"
   },
   "source": [
    "## Advantages of using Pretrained Sentence Embedding\n",
    "* Faster Compution due to Simpler Artitecture\n",
    "* Can Take Advantage of Pretrained BERT Network\n",
    "* Sentence sizes are Long and required 16+ Gb of RAM if not truncated while implementing LSTM Network\n",
    "* Vocab size is 1,00,000+ Making Embedding Matrix Very large and Computationaly Expensive"
   ]
  },
  {
   "cell_type": "code",
   "execution_count": 59,
   "metadata": {
    "id": "pezmY7BrCf74"
   },
   "outputs": [],
   "source": [
    "class Model(nn.Module):\n",
    "    def __init__(self, ntoken = 768, nout = 1):\n",
    "        super(Model, self).__init__()\n",
    "        self.model_type = 'ANN Model'\n",
    "        self.encoder = nn.Linear(ntoken , ntoken*2)\n",
    "        self.relu = nn.ReLU()\n",
    "        self.norm = nn.LayerNorm(ntoken*2)\n",
    "        self.decoder = nn.Linear(ntoken*2, nout)\n",
    "        self.sigmoid = nn.Sigmoid()\n",
    "        self.dropout = nn.Dropout(.25)\n",
    "\n",
    "    def forward(self, x):\n",
    "        x = self.encoder(x)\n",
    "        x = self.norm(self.relu(x))\n",
    "        x = self.dropout(x)\n",
    "        x = self.decoder(x)\n",
    "        return self.sigmoid(x.squeeze())"
   ]
  },
  {
   "cell_type": "code",
   "execution_count": 55,
   "metadata": {
    "id": "39dj_sBNCDLg"
   },
   "outputs": [],
   "source": [
    "class TrainerDataset:\n",
    "    def __init__(self, dataset ,target):\n",
    "        self.dataset = dataset\n",
    "        self.target = target\n",
    "\n",
    "    def __len__(self):\n",
    "        return len(self.dataset)\n",
    "\n",
    "    def __getitem__(self, item):\n",
    "        target = self.target[item]\n",
    "        item = self.dataset[item]\n",
    "        # print(item)\n",
    "        return torch.tensor(item) , torch.tensor(target, dtype=torch.float32)\n",
    "\n",
    "def create_dataloader():\n",
    "    train_data = TrainerDataset(embeddings[:40000] , data.Fake.values[:40000])\n",
    "    train_data = DataLoader(train_data , batch_size = 64 , shuffle = True , drop_last = True)\n",
    "\n",
    "    valid_data = TrainerDataset(embeddings[40000:], data.Fake.values[40000:])\n",
    "    valid_data = DataLoader(valid_data , batch_size = 64 , shuffle = True , drop_last = True)\n",
    "\n",
    "    return train_data , valid_data"
   ]
  },
  {
   "cell_type": "code",
   "execution_count": null,
   "metadata": {
    "id": "h6b_oJmsiPPx"
   },
   "outputs": [],
   "source": [
    "embeddings = model.encode(data.news.values , normalize_embeddings= True ,batch_size= 128, device= 'cuda', show_progress_bar= True )"
   ]
  },
  {
   "cell_type": "code",
   "execution_count": 23,
   "metadata": {
    "id": "-9MGxYI1KxeE"
   },
   "outputs": [],
   "source": [
    "train_loader , valid_loader = create_dataloader()"
   ]
  },
  {
   "cell_type": "code",
   "execution_count": 71,
   "metadata": {
    "id": "3JAOJQbrJR0q"
   },
   "outputs": [],
   "source": [
    "class Pytorch_Trainer():\n",
    "    \"\"\"\n",
    "    Custom Pytorch Trainer Model Which makes easy to Train Pytorch Model\n",
    "    BY: KAUSTUBH PATHAK\n",
    "    \"\"\"\n",
    "    def __init__(self):\n",
    "        super().__init__()\n",
    "        self._BT_Avg_Loss_Train = []\n",
    "        self._BT_Avg_Loss_Valid = []\n",
    "        self._Loss_df = []\n",
    "        self.max_grad_norm = 1\n",
    "        self.__Use_CLR = False\n",
    "        self.model_save_path = '/content/drive/MyDrive/LambdaTest/models_2'\n",
    "        os.makedirs(self.model_save_path, exist_ok=True)\n",
    "        self.device = torch.device(\"cuda\" if torch.cuda.is_available() else \"cpu\")\n",
    "\n",
    "    # To Save Model after Training (Trainer dont have Automatic Saving to Save Best Model while Training { To Implement})\n",
    "    def _Save_Model(self , model , optimizer ,  path):\n",
    "        checkpoint = {\n",
    "            'Training Loss': self._BT_Avg_Loss_Train,\n",
    "            'Validation Loss': self._BT_Avg_Loss_Valid,\n",
    "            'Loss df': self._Loss_df,\n",
    "            'Optimizer': optimizer.state_dict(),\n",
    "            'State_Dict': model.state_dict()\n",
    "                     }\n",
    "        torch.save(checkpoint , path)\n",
    "        print('Model Saved Successfully....')\n",
    "\n",
    "    # Load the Saved Model and Optimizer\n",
    "    def _Load_Model(self, model, optimizer ,path):\n",
    "        checkpoint = torch.load(path)\n",
    "        model.load_state_dict(checkpoint['State_Dict'])\n",
    "        self._BT_Avg_Loss_Train = checkpoint['Training Loss']\n",
    "        self._BT_Avg_Loss_Valid = checkpoint['Validation Loss']\n",
    "        self._Loss_df = checkpoint['Loss df']\n",
    "        optimizer.load_state_dict(checkpoint['Optimizer'])\n",
    "        print('Loading Completed....')\n",
    "        return model, optimizer\n",
    "\n",
    "    # Switch Between Training and Evaluation modes.\n",
    "    def _Train_Eval(self , model , mode):\n",
    "        if mode.lower() == 'train':\n",
    "            model.train()\n",
    "            torch.set_grad_enabled(True)\n",
    "        elif mode.lower() == 'eval':\n",
    "            model.eval()\n",
    "            torch.set_grad_enabled(False)\n",
    "        else:\n",
    "            raise Exception(\"Unknown Type....!! Set to 'Train' or 'Eval'\")\n",
    "\n",
    "    # Predict Function (Correctly {Not for Large Datasets.})\n",
    "    def _Predict(self , model, x):\n",
    "        model._Train_Eval(mode = 'Eval')\n",
    "        x = torch.tensor(x).to(device)\n",
    "        return  model(x).detach()\n",
    "\n",
    "    # Run/Train the Model with Automatic Mixed Precision\n",
    "    def fit(self , model , optimizer , loss , dataloader , validloader ,scheduler = None,ex_flag = 0, epochs = 'Default' , use_grad = False):\n",
    "        print('Abbreviations : \\n\\tV.S. -> Validation Size \\tV.L. -> Validation Loss \\tT.S. -> Training Size \\tT.L. -> Training Loss \\tT.T. -> Training Time\\nResults : ')\n",
    "        loss = loss.to(self.device)\n",
    "        model = model.to(self.device)\n",
    "        if epochs == 'Default':\n",
    "            epochs = 5\n",
    "        if use_grad:\n",
    "            scaler = GradScaler()\n",
    "\n",
    "        for j in range(epochs):\n",
    "            time_now = time.time()\n",
    "            self._Train_Eval(model, mode = 'Train')\n",
    "            Train_Total_Loss = 0 #For Epoch Loss\n",
    "            for x_train , target in dataloader:\n",
    "                x_train , target = x_train.to(device) , target.to(device)\n",
    "\n",
    "                optimizer.zero_grad()\n",
    "                if use_grad:\n",
    "                    with autocast():\n",
    "                        embed_x = model.__call__(x_train )\n",
    "                        loss_value = loss(embed_x, target)\n",
    "                    scale_before_step = scaler.get_scale()\n",
    "                    scaler.scale(loss_value).backward()\n",
    "                    scaler.unscale_(self.optimizer)\n",
    "                    torch.nn.utils.clip_grad_norm_(model.parameters(), self.max_grad_norm)\n",
    "                    scaler.step(self.optimizer)\n",
    "                    scaler.update()\n",
    "                    skip_scheduler = scaler.get_scale() != scale_before_step\n",
    "                else:\n",
    "                    embed_x = model.__call__(x_train )\n",
    "                    loss_value =  loss(embed_x, target)\n",
    "\n",
    "                    loss_value.backward()\n",
    "                    torch.nn.utils.clip_grad_norm_(model.parameters(), self.max_grad_norm)\n",
    "                    optimizer.step()\n",
    "                if scheduler != None:\n",
    "                    scheduler.step() # Stepping If using Cyclic Learning Rate ()\n",
    "                \n",
    "                self._BT_Avg_Loss_Train.append([j,ex_flag,loss_value.item()]) # Otherwise Simple Append\n",
    "\n",
    "                Train_Total_Loss += loss_value.item() #For Epoch Loss\n",
    "                ex_flag += 1 #Flag\n",
    "\n",
    "            #### For Evaluation ....\n",
    "            self._Train_Eval(model , mode = 'Eval') # Switching to Evaluation Mode\n",
    "            ex_flag = 0 #Flag\n",
    "            Valid_Total_Loss = 0 # For Calculating Validation Loss\n",
    "\n",
    "            for x_train  ,  target in validloader:\n",
    "                x_train , target = x_train.to(device) , target.to(device)\n",
    "\n",
    "                if use_grad:\n",
    "                    with autocast():\n",
    "                        embed_x = model.__call__(x_train )\n",
    "                        loss_value = loss(embed_x, target)\n",
    "                else:\n",
    "                    embed_x  = model.__call__(x_train ) # Calling to get Prediction\n",
    "                    loss_value = loss(embed_x, target) # Calculating the Loss\n",
    "                self._BT_Avg_Loss_Valid.append([j,ex_flag , loss_value.item()]) # Otherwise Simple Append\n",
    "                Valid_Total_Loss += loss_value.item() #Epoch Validation Loss\n",
    "                ex_flag += 1 #Flag\n",
    "            # self._Save_Model(model , optimizer , f'{self.model_save_path}/epochs{j+1}_ex_flag_{ex_flag}.pt')\n",
    "            print('Epoch : {} | V.S. : {} | V.L. : {:07.5f} | T.S. : {} | T.L : {:07.5f} | T.T. : {:05.3f} Sec ||'.\\\n",
    "                        format(\\\n",
    "                                j+1 , \\\n",
    "                                len(validloader),round(Valid_Total_Loss / len(validloader) , 5) ,\n",
    "                                len(dataloader) , round(Train_Total_Loss / len(dataloader) , 5) ,\n",
    "                                round(time.time() - time_now,3)\n",
    "                                )\\\n",
    "                        )\n",
    "\n",
    "            self._Loss_df.append(\n",
    "                            {\n",
    "                            'Epoch':j ,\n",
    "                            'Training Loss': Train_Total_Loss/len(dataloader) ,\n",
    "                            'Validation Loss':  Valid_Total_Loss / len(validloader)\n",
    "                            }\n",
    "                        )\n"
   ]
  },
  {
   "cell_type": "code",
   "execution_count": 72,
   "metadata": {
    "colab": {
     "base_uri": "https://localhost:8080/"
    },
    "id": "WdqP0sm5F8i2",
    "outputId": "d79c2b4e-9d01-422e-85fc-ae2d731f104a"
   },
   "outputs": [
    {
     "name": "stdout",
     "output_type": "stream",
     "text": [
      "Abbreviations : \n",
      "\tV.S. -> Validation Size \tV.L. -> Validation Loss \tT.S. -> Training Size \tT.L. -> Training Loss \tT.T. -> Training Time\n",
      "Results : \n",
      "Epoch : 1 | V.S. : 76 | V.L. : 0.10031 | T.S. : 625 | T.L : 0.12685 | T.T. : 2.837 Sec ||\n",
      "Epoch : 2 | V.S. : 76 | V.L. : 0.10348 | T.S. : 625 | T.L : 0.08032 | T.T. : 2.797 Sec ||\n",
      "Epoch : 3 | V.S. : 76 | V.L. : 0.07774 | T.S. : 625 | T.L : 0.05825 | T.T. : 2.816 Sec ||\n",
      "Epoch : 4 | V.S. : 76 | V.L. : 0.07287 | T.S. : 625 | T.L : 0.04269 | T.T. : 2.809 Sec ||\n",
      "Epoch : 5 | V.S. : 76 | V.L. : 0.07051 | T.S. : 625 | T.L : 0.03039 | T.T. : 2.797 Sec ||\n"
     ]
    }
   ],
   "source": [
    "ann_model = Model()\n",
    "trainer = Pytorch_Trainer()\n",
    "loss = nn.BCELoss()\n",
    "\n",
    "optimizer = torch.optim.Adam(ann_model.parameters(), lr=1.0*0.001, betas=(0.9, 0.999), eps=1e-08, weight_decay=0)\n",
    "trainer.fit(ann_model , optimizer, loss, train_loader , valid_loader)"
   ]
  },
  {
   "cell_type": "code",
   "execution_count": 85,
   "metadata": {
    "colab": {
     "base_uri": "https://localhost:8080/",
     "height": 868
    },
    "id": "nGV5Nj4ctViL",
    "outputId": "119dd43d-969b-4223-d84b-947fdd15c14a"
   },
   "outputs": [
    {
     "data": {
      "text/html": [
       "<b>Accuracy Over Training Dataset</b> - 99.988% <br><br><b>Classification Report</b>"
      ],
      "text/plain": [
       "<IPython.core.display.HTML object>"
      ]
     },
     "metadata": {
      "tags": []
     },
     "output_type": "display_data"
    },
    {
     "name": "stdout",
     "output_type": "stream",
     "text": [
      "              precision    recall  f1-score   support\n",
      "\n",
      "   Real News       0.99      1.00      0.99     19105\n",
      "   Fake News       1.00      0.99      0.99     20895\n",
      "\n",
      "    accuracy                           0.99     40000\n",
      "   macro avg       0.99      0.99      0.99     40000\n",
      "weighted avg       0.99      0.99      0.99     40000\n",
      "\n"
     ]
    },
    {
     "data": {
      "text/html": [
       "<br><b>Confusion Matrix</b>"
      ],
      "text/plain": [
       "<IPython.core.display.HTML object>"
      ]
     },
     "metadata": {
      "tags": []
     },
     "output_type": "display_data"
    },
    {
     "data": {
      "text/plain": [
       "<matplotlib.axes._subplots.AxesSubplot at 0x7f1028e1d710>"
      ]
     },
     "execution_count": 85,
     "metadata": {
      "tags": []
     },
     "output_type": "execute_result"
    },
    {
     "data": {
      "image/png": "[encoded data removed]",
      "text/plain": [
       "<Figure size 720x720 with 2 Axes>"
      ]
     },
     "metadata": {
      "tags": []
     },
     "output_type": "display_data"
    }
   ],
   "source": [
    "pred = []\n",
    "target = []\n",
    "ann_model.eval()\n",
    "for embedss , targets in train_loader:\n",
    "    preds = ann_model(embedss.to(device))\n",
    "    pred.append(preds.detach().cpu().numpy())\n",
    "    target.append(targets.cpu().numpy())\n",
    "pred , target = np.hstack(pred) , np.hstack(target)\n",
    "result = pred > .5\n",
    "result = [int(i) for i in result]\n",
    "accuracy_value = roc_auc_score(target,pred)\n",
    "display(HTML(f\"<b>Accuracy Over Training Dataset</b> - {round(accuracy_value*100 , 3)}% <br><br><b>Classification Report</b>\"))\n",
    "print(classification_report(target, result, target_names=['Real News', 'Fake News']))\n",
    "display(HTML(f\"<br><b>Confusion Matrix</b>\"))\n",
    "cm = confusion_matrix(target, result)\n",
    "plt.figure(figsize = (10, 10))\n",
    "sns.heatmap(pd.DataFrame(cm , index = ['Real News' , 'Fake News'] , columns = ['Real News', 'Fake News']), annot = True,fmt='g')"
   ]
  },
  {
   "cell_type": "code",
   "execution_count": 84,
   "metadata": {
    "colab": {
     "base_uri": "https://localhost:8080/",
     "height": 869
    },
    "id": "rqC8W3jcMs3V",
    "outputId": "be879cb4-5a96-4e13-e551-56add3063616"
   },
   "outputs": [
    {
     "data": {
      "text/html": [
       "<b>Accuracy Over Testing Dataset</b> - 99.754% <br><br><b>Classification Report</b>"
      ],
      "text/plain": [
       "<IPython.core.display.HTML object>"
      ]
     },
     "metadata": {
      "tags": []
     },
     "output_type": "display_data"
    },
    {
     "name": "stdout",
     "output_type": "stream",
     "text": [
      "              precision    recall  f1-score   support\n",
      "\n",
      "   Real News       0.97      0.98      0.98      2292\n",
      "   Fake News       0.98      0.98      0.98      2572\n",
      "\n",
      "    accuracy                           0.98      4864\n",
      "   macro avg       0.98      0.98      0.98      4864\n",
      "weighted avg       0.98      0.98      0.98      4864\n",
      "\n"
     ]
    },
    {
     "data": {
      "text/html": [
       "<br><b>Confusion Matrix</b>"
      ],
      "text/plain": [
       "<IPython.core.display.HTML object>"
      ]
     },
     "metadata": {
      "tags": []
     },
     "output_type": "display_data"
    },
    {
     "data": {
      "text/plain": [
       "<matplotlib.axes._subplots.AxesSubplot at 0x7f1028e8e1d0>"
      ]
     },
     "execution_count": 84,
     "metadata": {
      "tags": []
     },
     "output_type": "execute_result"
    },
    {
     "data": {
      "image/png": "[encoded data removed]",
      "text/plain": [
       "<Figure size 720x720 with 2 Axes>"
      ]
     },
     "metadata": {
      "tags": []
     },
     "output_type": "display_data"
    }
   ],
   "source": [
    "pred = []\n",
    "target = []\n",
    "ann_model.eval()\n",
    "for embedss , targets in valid_loader:\n",
    "    preds = ann_model(embedss.to(device))\n",
    "    pred.append(preds.detach().cpu().numpy())\n",
    "    target.append(targets.cpu().numpy())\n",
    "pred , target = np.hstack(pred) , np.hstack(target)\n",
    "result = pred > .5\n",
    "result = [int(i) for i in result]\n",
    "accuracy_value = roc_auc_score(target,pred)\n",
    "display(HTML(f\"<b>Accuracy Over Testing Dataset</b> - {round(accuracy_value*100 , 3)}% <br><br><b>Classification Report</b>\"))\n",
    "print(classification_report(target, result, target_names=['Real News', 'Fake News']))\n",
    "display(HTML(f\"<br><b>Confusion Matrix</b>\"))\n",
    "cm = confusion_matrix(target, result)\n",
    "plt.figure(figsize = (10, 10))\n",
    "sns.heatmap(pd.DataFrame(cm , index = ['Real News' , 'Fake News'] , columns = ['Real News', 'Fake News']), annot = True,fmt='g')"
   ]
  }
 ],
 "metadata": {
  "accelerator": "GPU",
  "colab": {
   "collapsed_sections": [],
   "name": "LambdaTest Assignments.ipynb",
   "provenance": []
  },
  "kernelspec": {
   "display_name": "Python 3",
   "language": "python",
   "name": "python3"
  },
  "language_info": {
   "codemirror_mode": {
    "name": "ipython",
    "version": 3
   },
   "file_extension": ".py",
   "mimetype": "text/x-python",
   "name": "python",
   "nbconvert_exporter": "python",
   "pygments_lexer": "ipython3",
   "version": "3.8.0"
  }
 },
 "nbformat": 4,
 "nbformat_minor": 4
}
